{
  "nbformat": 4,
  "nbformat_minor": 0,
  "metadata": {
    "colab": {
      "name": "crateAndBarrel_withSteps.ipynb",
      "provenance": [],
      "authorship_tag": "ABX9TyOWhXXqabydufLPTLf2Rubg",
      "include_colab_link": true
    },
    "kernelspec": {
      "name": "python3",
      "display_name": "Python 3"
    }
  },
  "cells": [
    {
      "cell_type": "markdown",
      "metadata": {
        "id": "view-in-github",
        "colab_type": "text"
      },
      "source": [
        "<a href=\"https://colab.research.google.com/github/sburkley/RiverbendStudents/blob/main/crateAndBarrel_withSteps.ipynb\" target=\"_parent\"><img src=\"https://colab.research.google.com/assets/colab-badge.svg\" alt=\"Open In Colab\"/></a>"
      ]
    },
    {
      "cell_type": "markdown",
      "metadata": {
        "id": "6qFVUOh5qaNd"
      },
      "source": [
        "We are going to use the datasets from the Kaggle Competition Otto Group Product Classification Challenge. You will need to register with Kaggle to get the data. Download both the training and test sets.\r\n",
        "\r\n",
        "https://www.kaggle.com/c/otto-group-product-classification-challenge/data?select=train.csv\r\n",
        "\r\n",
        "The following is the text from that page:\r\n",
        "\r\n",
        "The Otto Group is one of the world’s biggest e-commerce companies, with subsidiaries in more than 20 countries, including Crate & Barrel (USA), Otto.de (Germany) and 3 Suisses (France). We are selling millions of products worldwide every day, with several thousand products being added to our product line.\r\n",
        "\r\n",
        "A consistent analysis of the performance of our products is crucial. However, due to our diverse global infrastructure, many identical products get classified differently. Therefore, the quality of our product analysis depends heavily on the ability to accurately cluster similar products. The better the classification, the more insights we can generate about our product range.\r\n",
        "\r\n",
        "For this competition, we have provided a dataset with 93 features for more than 200,000 products. The objective is to build a predictive model which is able to distinguish between our main product categories. The winning models will be open sourced.\r\n",
        "\r\n",
        "**Submission:**\r\n",
        "\r\n",
        "You will submit your solution to Kaggle using the Late Submission button. In your github repository place your code and your Kaggle results (an image is fine). If your code is a Python Jupyter Notebook make sure you have a writeup explaining your solution. If your code is just a source code file, have an additional readme file outlining and discussing your solution.\r\n"
      ]
    },
    {
      "cell_type": "markdown",
      "metadata": {
        "id": "1wZCh7KqpsU_"
      },
      "source": [
        "1. unzip the data\r\n",
        "2. print them out\r\n",
        "3. put data into dataframes\r\n",
        "4. split the trainning data into features and labels\r\n",
        "5. create a prediction model (try to optimize!)\r\n",
        "6. create a param grid with a wide range of estimators\r\n",
        "7. increase the folds to further accuracy\r\n",
        "8. fit the data with the best estimator\r\n",
        "9. calculate the prediction\r\n",
        "10. one hot encode the categories so it is in a format where ID matches up with a 1 in a category (sorted them)"
      ]
    },
    {
      "cell_type": "code",
      "metadata": {
        "id": "PZtc339kq98j"
      },
      "source": [
        ""
      ],
      "execution_count": null,
      "outputs": []
    }
  ]
}