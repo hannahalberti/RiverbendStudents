{
  "nbformat": 4,
  "nbformat_minor": 0,
  "metadata": {
    "anaconda-cloud": {},
    "kernelspec": {
      "display_name": "Python 3",
      "language": "python",
      "name": "python3"
    },
    "language_info": {
      "codemirror_mode": {
        "name": "ipython",
        "version": 3
      },
      "file_extension": ".py",
      "mimetype": "text/x-python",
      "name": "python",
      "nbconvert_exporter": "python",
      "pygments_lexer": "ipython3",
      "version": "3.8.3"
    },
    "colab": {
      "name": "intro-to-sklearn2.ipynb",
      "provenance": [],
      "include_colab_link": true
    }
  },
  "cells": [
    {
      "cell_type": "markdown",
      "metadata": {
        "id": "view-in-github",
        "colab_type": "text"
      },
      "source": [
        "<a href=\"https://colab.research.google.com/github/sburkley/RiverbendStudents/blob/main/intro_to_sklearn2.ipynb\" target=\"_parent\"><img src=\"https://colab.research.google.com/assets/colab-badge.svg\" alt=\"Open In Colab\"/></a>"
      ]
    },
    {
      "cell_type": "markdown",
      "metadata": {
        "id": "kHzCoWoPHCX3"
      },
      "source": [
        "## Introduction to SciKitLearn (sklearn)\n",
        "\n",
        "![](https://upload.wikimedia.org/wikipedia/commons/0/05/Scikit_learn_logo_small.svg)\n",
        "\n",
        "sklearn is a Python library that implements many machine learning algorithms.\n",
        "\n",
        "The best bet, as with probably everything else, is just to google what you want. For example, if I want to learn how to use kNN (k nearest neighbors) with sklearn is to google **sklearn knn**  and you will find the information. The good thing about sklearn documentation, is that they provide a short example of how to use each algorithm.\n",
        "\n",
        "For example, suppose we have a small dataset of the heights of women who play in the Women's NBA or who are gymnasts. We already have a small dataset with women whose sport is basketball, gymnastics, or track. So we will read the file in and filter out the track people. We will also lose the weight column\n"
      ]
    },
    {
      "cell_type": "code",
      "metadata": {
        "scrolled": true,
        "id": "vRCBFaHdHCX5",
        "outputId": "796f026d-b4d9-4879-9a02-4788ff6783d9"
      },
      "source": [
        "import pandas as pd\n",
        "from pandas import DataFrame\n",
        "athlete = pd.read_csv('https://raw.githubusercontent.com/zacharski/ml-class/master/data/athletes.csv', index_col='Name')\n",
        "athletes = athlete[((athlete.Sport == 'Basketball') | (athlete.Sport == 'Gymnastics'))][['Sport', 'Height']]\n",
        "athletes = athletes.sort_index()\n",
        "athletes"
      ],
      "execution_count": null,
      "outputs": [
        {
          "output_type": "execute_result",
          "data": {
            "text/html": [
              "<div>\n",
              "<style scoped>\n",
              "    .dataframe tbody tr th:only-of-type {\n",
              "        vertical-align: middle;\n",
              "    }\n",
              "\n",
              "    .dataframe tbody tr th {\n",
              "        vertical-align: top;\n",
              "    }\n",
              "\n",
              "    .dataframe thead th {\n",
              "        text-align: right;\n",
              "    }\n",
              "</style>\n",
              "<table border=\"1\" class=\"dataframe\">\n",
              "  <thead>\n",
              "    <tr style=\"text-align: right;\">\n",
              "      <th></th>\n",
              "      <th>Sport</th>\n",
              "      <th>Height</th>\n",
              "    </tr>\n",
              "    <tr>\n",
              "      <th>Name</th>\n",
              "      <th></th>\n",
              "      <th></th>\n",
              "    </tr>\n",
              "  </thead>\n",
              "  <tbody>\n",
              "    <tr>\n",
              "      <th>Asuka Teramoto</th>\n",
              "      <td>Gymnastics</td>\n",
              "      <td>54</td>\n",
              "    </tr>\n",
              "    <tr>\n",
              "      <th>Brittainey Raven</th>\n",
              "      <td>Basketball</td>\n",
              "      <td>72</td>\n",
              "    </tr>\n",
              "    <tr>\n",
              "      <th>Chen Nan</th>\n",
              "      <td>Basketball</td>\n",
              "      <td>78</td>\n",
              "    </tr>\n",
              "    <tr>\n",
              "      <th>Elena Delle Donne</th>\n",
              "      <td>Basketball</td>\n",
              "      <td>77</td>\n",
              "    </tr>\n",
              "    <tr>\n",
              "      <th>Gabby Douglas</th>\n",
              "      <td>Gymnastics</td>\n",
              "      <td>49</td>\n",
              "    </tr>\n",
              "    <tr>\n",
              "      <th>Jennifer Lacy</th>\n",
              "      <td>Basketball</td>\n",
              "      <td>75</td>\n",
              "    </tr>\n",
              "    <tr>\n",
              "      <th>Laurie Hernandez</th>\n",
              "      <td>Gymnastics</td>\n",
              "      <td>60</td>\n",
              "    </tr>\n",
              "    <tr>\n",
              "      <th>Linlin Deng</th>\n",
              "      <td>Gymnastics</td>\n",
              "      <td>54</td>\n",
              "    </tr>\n",
              "    <tr>\n",
              "      <th>Madison Kocian</th>\n",
              "      <td>Gymnastics</td>\n",
              "      <td>62</td>\n",
              "    </tr>\n",
              "    <tr>\n",
              "      <th>Nakia Sanford</th>\n",
              "      <td>Basketball</td>\n",
              "      <td>76</td>\n",
              "    </tr>\n",
              "    <tr>\n",
              "      <th>Nikki Blue</th>\n",
              "      <td>Basketball</td>\n",
              "      <td>68</td>\n",
              "    </tr>\n",
              "    <tr>\n",
              "      <th>Qiushuang Huang</th>\n",
              "      <td>Gymnastics</td>\n",
              "      <td>61</td>\n",
              "    </tr>\n",
              "    <tr>\n",
              "      <th>Rebecca Tunney</th>\n",
              "      <td>Gymnastics</td>\n",
              "      <td>58</td>\n",
              "    </tr>\n",
              "    <tr>\n",
              "      <th>Seimone Augustus</th>\n",
              "      <td>Basketball</td>\n",
              "      <td>72</td>\n",
              "    </tr>\n",
              "    <tr>\n",
              "      <th>Shanna Crossley</th>\n",
              "      <td>Basketball</td>\n",
              "      <td>70</td>\n",
              "    </tr>\n",
              "    <tr>\n",
              "      <th>Shavonte Zellous</th>\n",
              "      <td>Basketball</td>\n",
              "      <td>70</td>\n",
              "    </tr>\n",
              "    <tr>\n",
              "      <th>Simone Biles</th>\n",
              "      <td>Gymnastics</td>\n",
              "      <td>57</td>\n",
              "    </tr>\n",
              "    <tr>\n",
              "      <th>Viktoria Komova</th>\n",
              "      <td>Gymnastics</td>\n",
              "      <td>61</td>\n",
              "    </tr>\n",
              "  </tbody>\n",
              "</table>\n",
              "</div>"
            ],
            "text/plain": [
              "                        Sport  Height\n",
              "Name                                 \n",
              "Asuka Teramoto     Gymnastics      54\n",
              "Brittainey Raven   Basketball      72\n",
              "Chen Nan           Basketball      78\n",
              "Elena Delle Donne  Basketball      77\n",
              "Gabby Douglas      Gymnastics      49\n",
              "Jennifer Lacy      Basketball      75\n",
              "Laurie Hernandez   Gymnastics      60\n",
              "Linlin Deng        Gymnastics      54\n",
              "Madison Kocian     Gymnastics      62\n",
              "Nakia Sanford      Basketball      76\n",
              "Nikki Blue         Basketball      68\n",
              "Qiushuang Huang    Gymnastics      61\n",
              "Rebecca Tunney     Gymnastics      58\n",
              "Seimone Augustus   Basketball      72\n",
              "Shanna Crossley    Basketball      70\n",
              "Shavonte Zellous   Basketball      70\n",
              "Simone Biles       Gymnastics      57\n",
              "Viktoria Komova    Gymnastics      61"
            ]
          },
          "metadata": {
            "tags": []
          },
          "execution_count": 1
        }
      ]
    },
    {
      "cell_type": "markdown",
      "metadata": {
        "id": "wpHRB6dvHCX6"
      },
      "source": [
        "## Classifying sport based on height\n",
        "Ok, this is a super easy task, but suppose I want to build a kNN classifier where I will give someone's height and the classifier will say whether their sport is gymnastics or basketball. \n",
        "\n",
        "First, I will import the kNN algorithm and make an instance of it."
      ]
    },
    {
      "cell_type": "code",
      "metadata": {
        "id": "ERfKF-5EHCX6",
        "outputId": "20f7c471-69ed-4529-83eb-04344b783ccc"
      },
      "source": [
        "from sklearn.neighbors import KNeighborsClassifier\n",
        "knn = KNeighborsClassifier(n_neighbors=3)\n",
        "knn.get_params()"
      ],
      "execution_count": null,
      "outputs": [
        {
          "output_type": "execute_result",
          "data": {
            "text/plain": [
              "{'algorithm': 'auto',\n",
              " 'leaf_size': 30,\n",
              " 'metric': 'minkowski',\n",
              " 'metric_params': None,\n",
              " 'n_jobs': None,\n",
              " 'n_neighbors': 3,\n",
              " 'p': 2,\n",
              " 'weights': 'uniform'}"
            ]
          },
          "metadata": {
            "tags": []
          },
          "execution_count": 4
        }
      ]
    },
    {
      "cell_type": "markdown",
      "metadata": {
        "id": "Y-1qWyboHCX7"
      },
      "source": [
        "The \n",
        "\n",
        "    knn = KNeighborsClassifier(n_neighbors=3)\n",
        "\n",
        "makes an instance of a k nearest neighbor classifier with k=3.\n",
        "\n",
        "As the name of the method suggests, the line\n",
        "\n",
        "    knn.get_params()\n",
        "    \n",
        "displays the parameters of the classifier. In this case:\n",
        "\n",
        "```\n",
        "{'algorithm': 'auto',\n",
        " 'leaf_size': 30,\n",
        " 'metric': 'minkowski',\n",
        " 'metric_params': None,\n",
        " 'n_jobs': None,\n",
        " 'n_neighbors': 3,\n",
        " 'p': 2,\n",
        " 'weights': 'uniform'}\n",
        " ```\n",
        " \n",
        "I won't explain all the parameters here, but notice that the metric is Minkowski, and the `p` of Minkowski is 2 making it Euclidean distance. And the number of neighbors `n_neighbors` is 3. \n",
        "\n",
        "\n",
        "---\n",
        "\n",
        "\n",
        "Most classifiers in sklearn want the labels (the thing we are trying to predict) to be a separate parameter from the features. So, lets create two DataFrames. One for the features and one for the labels. First, `athletes_features` \n"
      ]
    },
    {
      "cell_type": "code",
      "metadata": {
        "id": "lF5ZKcB3HCX7",
        "outputId": "f4dc133d-12dc-425e-c54d-9acba4db694b"
      },
      "source": [
        "athletes_features = athletes[['Height']]\n",
        "athletes_features"
      ],
      "execution_count": null,
      "outputs": [
        {
          "output_type": "execute_result",
          "data": {
            "text/html": [
              "<div>\n",
              "<style scoped>\n",
              "    .dataframe tbody tr th:only-of-type {\n",
              "        vertical-align: middle;\n",
              "    }\n",
              "\n",
              "    .dataframe tbody tr th {\n",
              "        vertical-align: top;\n",
              "    }\n",
              "\n",
              "    .dataframe thead th {\n",
              "        text-align: right;\n",
              "    }\n",
              "</style>\n",
              "<table border=\"1\" class=\"dataframe\">\n",
              "  <thead>\n",
              "    <tr style=\"text-align: right;\">\n",
              "      <th></th>\n",
              "      <th>Height</th>\n",
              "    </tr>\n",
              "    <tr>\n",
              "      <th>Name</th>\n",
              "      <th></th>\n",
              "    </tr>\n",
              "  </thead>\n",
              "  <tbody>\n",
              "    <tr>\n",
              "      <th>Asuka Teramoto</th>\n",
              "      <td>54</td>\n",
              "    </tr>\n",
              "    <tr>\n",
              "      <th>Brittainey Raven</th>\n",
              "      <td>72</td>\n",
              "    </tr>\n",
              "    <tr>\n",
              "      <th>Chen Nan</th>\n",
              "      <td>78</td>\n",
              "    </tr>\n",
              "    <tr>\n",
              "      <th>Elena Delle Donne</th>\n",
              "      <td>77</td>\n",
              "    </tr>\n",
              "    <tr>\n",
              "      <th>Gabby Douglas</th>\n",
              "      <td>49</td>\n",
              "    </tr>\n",
              "    <tr>\n",
              "      <th>Jennifer Lacy</th>\n",
              "      <td>75</td>\n",
              "    </tr>\n",
              "    <tr>\n",
              "      <th>Laurie Hernandez</th>\n",
              "      <td>60</td>\n",
              "    </tr>\n",
              "    <tr>\n",
              "      <th>Linlin Deng</th>\n",
              "      <td>54</td>\n",
              "    </tr>\n",
              "    <tr>\n",
              "      <th>Madison Kocian</th>\n",
              "      <td>62</td>\n",
              "    </tr>\n",
              "    <tr>\n",
              "      <th>Nakia Sanford</th>\n",
              "      <td>76</td>\n",
              "    </tr>\n",
              "    <tr>\n",
              "      <th>Nikki Blue</th>\n",
              "      <td>68</td>\n",
              "    </tr>\n",
              "    <tr>\n",
              "      <th>Qiushuang Huang</th>\n",
              "      <td>61</td>\n",
              "    </tr>\n",
              "    <tr>\n",
              "      <th>Rebecca Tunney</th>\n",
              "      <td>58</td>\n",
              "    </tr>\n",
              "    <tr>\n",
              "      <th>Seimone Augustus</th>\n",
              "      <td>72</td>\n",
              "    </tr>\n",
              "    <tr>\n",
              "      <th>Shanna Crossley</th>\n",
              "      <td>70</td>\n",
              "    </tr>\n",
              "    <tr>\n",
              "      <th>Shavonte Zellous</th>\n",
              "      <td>70</td>\n",
              "    </tr>\n",
              "    <tr>\n",
              "      <th>Simone Biles</th>\n",
              "      <td>57</td>\n",
              "    </tr>\n",
              "    <tr>\n",
              "      <th>Viktoria Komova</th>\n",
              "      <td>61</td>\n",
              "    </tr>\n",
              "  </tbody>\n",
              "</table>\n",
              "</div>"
            ],
            "text/plain": [
              "                   Height\n",
              "Name                     \n",
              "Asuka Teramoto         54\n",
              "Brittainey Raven       72\n",
              "Chen Nan               78\n",
              "Elena Delle Donne      77\n",
              "Gabby Douglas          49\n",
              "Jennifer Lacy          75\n",
              "Laurie Hernandez       60\n",
              "Linlin Deng            54\n",
              "Madison Kocian         62\n",
              "Nakia Sanford          76\n",
              "Nikki Blue             68\n",
              "Qiushuang Huang        61\n",
              "Rebecca Tunney         58\n",
              "Seimone Augustus       72\n",
              "Shanna Crossley        70\n",
              "Shavonte Zellous       70\n",
              "Simone Biles           57\n",
              "Viktoria Komova        61"
            ]
          },
          "metadata": {
            "tags": []
          },
          "execution_count": 5
        }
      ]
    },
    {
      "cell_type": "markdown",
      "metadata": {
        "id": "_E51xNFOHCX7"
      },
      "source": [
        "Great! Now, one for Athlete's labels. Again, we are trying to predict what sport they play so we will use the Sport column."
      ]
    },
    {
      "cell_type": "code",
      "metadata": {
        "id": "ScfvbpDYHCX8",
        "outputId": "7d7c94cd-8220-4f22-abb0-03834e965d6b"
      },
      "source": [
        "athletes_labels =  athletes['Sport']\n",
        "athletes_labels"
      ],
      "execution_count": null,
      "outputs": [
        {
          "output_type": "execute_result",
          "data": {
            "text/plain": [
              "Name\n",
              "Asuka Teramoto       Gymnastics\n",
              "Brittainey Raven     Basketball\n",
              "Chen Nan             Basketball\n",
              "Elena Delle Donne    Basketball\n",
              "Gabby Douglas        Gymnastics\n",
              "Jennifer Lacy        Basketball\n",
              "Laurie Hernandez     Gymnastics\n",
              "Linlin Deng          Gymnastics\n",
              "Madison Kocian       Gymnastics\n",
              "Nakia Sanford        Basketball\n",
              "Nikki Blue           Basketball\n",
              "Qiushuang Huang      Gymnastics\n",
              "Rebecca Tunney       Gymnastics\n",
              "Seimone Augustus     Basketball\n",
              "Shanna Crossley      Basketball\n",
              "Shavonte Zellous     Basketball\n",
              "Simone Biles         Gymnastics\n",
              "Viktoria Komova      Gymnastics\n",
              "Name: Sport, dtype: object"
            ]
          },
          "metadata": {
            "tags": []
          },
          "execution_count": 6
        }
      ]
    },
    {
      "cell_type": "markdown",
      "metadata": {
        "id": "N20WKWgwHCX8"
      },
      "source": [
        "The features are a Pandas DataFrame and the labels are a Pandas Series.\n",
        "\n",
        "We train the knn classifier we created by using the `fit` method as follows:"
      ]
    },
    {
      "cell_type": "code",
      "metadata": {
        "id": "YIXMtIm5HCX8",
        "outputId": "c12b5748-1328-44ce-ac5a-6c718e403d32"
      },
      "source": [
        "knn.fit(athletes_features, athletes_labels)\n"
      ],
      "execution_count": null,
      "outputs": [
        {
          "output_type": "execute_result",
          "data": {
            "text/plain": [
              "KNeighborsClassifier(n_neighbors=3)"
            ]
          },
          "metadata": {
            "tags": []
          },
          "execution_count": 7
        }
      ]
    },
    {
      "cell_type": "markdown",
      "metadata": {
        "id": "vwRkpO3fHCX9"
      },
      "source": [
        "We could have done all that in one line:\n",
        "\n",
        "    knn.fit(athletes['Height'].reshape(-1, 1), athletes['Sport'])\n",
        "    \n",
        "but I just wanted to show you a common convention of naming the features `_features` and the class that example is in as either `_labels` or `_class`.  We could have also named it `features_athletes`-- so anything that makes it clear. \n",
        "\n",
        "### let's classify something\n",
        "\n",
        "Nneka Ogwumike is 6'2\" or 74 inches. Let's see what our classifier predicts:"
      ]
    },
    {
      "cell_type": "code",
      "metadata": {
        "id": "lUDQzCEnHCX9",
        "outputId": "4343ae8d-8d2d-40d8-fda5-793bcd4b702d"
      },
      "source": [
        "print(knn.predict([[74]]))"
      ],
      "execution_count": null,
      "outputs": [
        {
          "output_type": "stream",
          "text": [
            "['Basketball']\n"
          ],
          "name": "stdout"
        }
      ]
    },
    {
      "cell_type": "markdown",
      "metadata": {
        "id": "eg5SwgI8HCX9"
      },
      "source": [
        "Ok. That is good considering Nneka Ogwumike is the 2016 MVP for the WNBA.\n",
        "\n",
        "We can also ask the classifier the probability that Nneka is a basketball player"
      ]
    },
    {
      "cell_type": "code",
      "metadata": {
        "id": "4o6nRXI-HCX-",
        "outputId": "41ea132a-b4b0-46d6-da62-9e883fe52020"
      },
      "source": [
        "print(knn.predict_proba([[74]]))"
      ],
      "execution_count": null,
      "outputs": [
        {
          "output_type": "stream",
          "text": [
            "[[1. 0.]]\n"
          ],
          "name": "stdout"
        }
      ]
    },
    {
      "cell_type": "markdown",
      "metadata": {
        "id": "IVcsMYxKHCX-"
      },
      "source": [
        "Ok. The probability that she is a basketball player is 1.0 and the probabity that she is a gymnast is 0.0. How did we get that probability? Well `k` was 3 so we used the three nearest neighbors and all of them were basketball players. If 2 were basketball players and 1 a gymnast the probability would be 66.6%. There is no magic here.\n",
        "\n",
        "Cool. Let's try Leilani Mitchell who is 5'5\" tall (or Svetlana Khorkina who is also the same height):"
      ]
    },
    {
      "cell_type": "code",
      "metadata": {
        "id": "C75zWjtaHCX-",
        "outputId": "6630c7a4-4b00-4320-e497-93a44968124a"
      },
      "source": [
        "print(knn.predict([[65]]))\n",
        "print(knn.predict_proba([[65]]))"
      ],
      "execution_count": null,
      "outputs": [
        {
          "output_type": "stream",
          "text": [
            "['Gymnastics']\n",
            "[[0.33333333 0.66666667]]\n"
          ],
          "name": "stdout"
        }
      ]
    },
    {
      "cell_type": "markdown",
      "metadata": {
        "id": "EbIxmSslHCX-"
      },
      "source": [
        "Ok. So here our classifer predicts gymanstics. But is only .66 confident. Why?  \n",
        "\n",
        "For that let's look at the athletes in our training set sorted by height. "
      ]
    },
    {
      "cell_type": "code",
      "metadata": {
        "id": "kBVid0wnHCX_",
        "outputId": "56cde5c6-8d26-4dd1-d3b0-2a378fb0e3ad"
      },
      "source": [
        "athletes.sort_values(by='Height')"
      ],
      "execution_count": null,
      "outputs": [
        {
          "output_type": "execute_result",
          "data": {
            "text/html": [
              "<div>\n",
              "<style scoped>\n",
              "    .dataframe tbody tr th:only-of-type {\n",
              "        vertical-align: middle;\n",
              "    }\n",
              "\n",
              "    .dataframe tbody tr th {\n",
              "        vertical-align: top;\n",
              "    }\n",
              "\n",
              "    .dataframe thead th {\n",
              "        text-align: right;\n",
              "    }\n",
              "</style>\n",
              "<table border=\"1\" class=\"dataframe\">\n",
              "  <thead>\n",
              "    <tr style=\"text-align: right;\">\n",
              "      <th></th>\n",
              "      <th>Sport</th>\n",
              "      <th>Height</th>\n",
              "    </tr>\n",
              "    <tr>\n",
              "      <th>Name</th>\n",
              "      <th></th>\n",
              "      <th></th>\n",
              "    </tr>\n",
              "  </thead>\n",
              "  <tbody>\n",
              "    <tr>\n",
              "      <th>Gabby Douglas</th>\n",
              "      <td>Gymnastics</td>\n",
              "      <td>49</td>\n",
              "    </tr>\n",
              "    <tr>\n",
              "      <th>Asuka Teramoto</th>\n",
              "      <td>Gymnastics</td>\n",
              "      <td>54</td>\n",
              "    </tr>\n",
              "    <tr>\n",
              "      <th>Linlin Deng</th>\n",
              "      <td>Gymnastics</td>\n",
              "      <td>54</td>\n",
              "    </tr>\n",
              "    <tr>\n",
              "      <th>Simone Biles</th>\n",
              "      <td>Gymnastics</td>\n",
              "      <td>57</td>\n",
              "    </tr>\n",
              "    <tr>\n",
              "      <th>Rebecca Tunney</th>\n",
              "      <td>Gymnastics</td>\n",
              "      <td>58</td>\n",
              "    </tr>\n",
              "    <tr>\n",
              "      <th>Laurie Hernandez</th>\n",
              "      <td>Gymnastics</td>\n",
              "      <td>60</td>\n",
              "    </tr>\n",
              "    <tr>\n",
              "      <th>Qiushuang Huang</th>\n",
              "      <td>Gymnastics</td>\n",
              "      <td>61</td>\n",
              "    </tr>\n",
              "    <tr>\n",
              "      <th>Viktoria Komova</th>\n",
              "      <td>Gymnastics</td>\n",
              "      <td>61</td>\n",
              "    </tr>\n",
              "    <tr>\n",
              "      <th>Madison Kocian</th>\n",
              "      <td>Gymnastics</td>\n",
              "      <td>62</td>\n",
              "    </tr>\n",
              "    <tr>\n",
              "      <th>Nikki Blue</th>\n",
              "      <td>Basketball</td>\n",
              "      <td>68</td>\n",
              "    </tr>\n",
              "    <tr>\n",
              "      <th>Shanna Crossley</th>\n",
              "      <td>Basketball</td>\n",
              "      <td>70</td>\n",
              "    </tr>\n",
              "    <tr>\n",
              "      <th>Shavonte Zellous</th>\n",
              "      <td>Basketball</td>\n",
              "      <td>70</td>\n",
              "    </tr>\n",
              "    <tr>\n",
              "      <th>Brittainey Raven</th>\n",
              "      <td>Basketball</td>\n",
              "      <td>72</td>\n",
              "    </tr>\n",
              "    <tr>\n",
              "      <th>Seimone Augustus</th>\n",
              "      <td>Basketball</td>\n",
              "      <td>72</td>\n",
              "    </tr>\n",
              "    <tr>\n",
              "      <th>Jennifer Lacy</th>\n",
              "      <td>Basketball</td>\n",
              "      <td>75</td>\n",
              "    </tr>\n",
              "    <tr>\n",
              "      <th>Nakia Sanford</th>\n",
              "      <td>Basketball</td>\n",
              "      <td>76</td>\n",
              "    </tr>\n",
              "    <tr>\n",
              "      <th>Elena Delle Donne</th>\n",
              "      <td>Basketball</td>\n",
              "      <td>77</td>\n",
              "    </tr>\n",
              "    <tr>\n",
              "      <th>Chen Nan</th>\n",
              "      <td>Basketball</td>\n",
              "      <td>78</td>\n",
              "    </tr>\n",
              "  </tbody>\n",
              "</table>\n",
              "</div>"
            ],
            "text/plain": [
              "                        Sport  Height\n",
              "Name                                 \n",
              "Gabby Douglas      Gymnastics      49\n",
              "Asuka Teramoto     Gymnastics      54\n",
              "Linlin Deng        Gymnastics      54\n",
              "Simone Biles       Gymnastics      57\n",
              "Rebecca Tunney     Gymnastics      58\n",
              "Laurie Hernandez   Gymnastics      60\n",
              "Qiushuang Huang    Gymnastics      61\n",
              "Viktoria Komova    Gymnastics      61\n",
              "Madison Kocian     Gymnastics      62\n",
              "Nikki Blue         Basketball      68\n",
              "Shanna Crossley    Basketball      70\n",
              "Shavonte Zellous   Basketball      70\n",
              "Brittainey Raven   Basketball      72\n",
              "Seimone Augustus   Basketball      72\n",
              "Jennifer Lacy      Basketball      75\n",
              "Nakia Sanford      Basketball      76\n",
              "Elena Delle Donne  Basketball      77\n",
              "Chen Nan           Basketball      78"
            ]
          },
          "metadata": {
            "tags": []
          },
          "execution_count": 11
        }
      ]
    },
    {
      "cell_type": "markdown",
      "metadata": {
        "id": "VO1ORQu8HCX_"
      },
      "source": [
        "We are using kNN with a k of 3 and we are trying to classify someone who is 65 inches tall.  \n",
        "<h3 style=\"color:red\">3 Nearest Neighbors</h3>\n",
        "<span style=\"color:red\">What sports do the 3 nearest neighbors play?</span>\n",
        "Double click this cell, enter the data, and shift-enter to render the cell\n",
        "\n",
        "Sport | Euclidean Distance\n",
        " :---: | :--: |\n",
        "  x |  0   \n",
        "  x | 0 \n",
        "  x | 0 \n",
        "  |\n",
        "  \n",
        "Why did I ask for Euclidean Distance? Well, again, when we created the classifier and then used the `get_params` method, the classifier returned:\n",
        "\n",
        "```\n",
        "{'algorithm': 'auto',\n",
        " 'leaf_size': 30,\n",
        " 'metric': 'minkowski',\n",
        " 'metric_params': None,\n",
        " 'n_jobs': None,\n",
        " 'n_neighbors': 3,\n",
        " 'p': 2,\n",
        " 'weights': 'uniform'}           \n",
        "```\n",
        "\n",
        "You see that it uses the Minkowski distance. The `p` parameter is the power parameter for Minkowski and you see the default value is 2. When p=1 Minkowski distance is the Manhattan Distance, when p=2 it is the Euclidean distance. And when we created the classifier we set `k`, the number of nearest neightbors for kNN to 3 (the default is 5).  So the three nearest neighbors 'vote' on the label to give that example. So for 5'5\" Svetlana Khorkina 2 neighbors voted gymnastics and 1 voted basketball so gymnastics won.\n",
        "\n",
        "As we just discussed, for knn we have a number of parameters we can use to modify the classifier. For example, to build a Manhattan Distance kNN classifier with a k of 1:"
      ]
    },
    {
      "cell_type": "code",
      "metadata": {
        "id": "ZgbtRwclHCX_",
        "outputId": "ee883a63-8a72-429d-c088-dd5d72d81db5"
      },
      "source": [
        "knnOne = KNeighborsClassifier(n_neighbors=1, p= 1)\n",
        "knnOne.fit(athletes[['Height']], athletes['Sport'])"
      ],
      "execution_count": null,
      "outputs": [
        {
          "output_type": "execute_result",
          "data": {
            "text/plain": [
              "KNeighborsClassifier(n_neighbors=1, p=1)"
            ]
          },
          "metadata": {
            "tags": []
          },
          "execution_count": 12
        }
      ]
    },
    {
      "cell_type": "markdown",
      "metadata": {
        "id": "lJ6ydoH4HCYA"
      },
      "source": [
        "And using `sklearn`, it is quite easy to build and use a variety of classifiers. For example, although you might no nothing about Guassian Naive Bayes classifiers, you can build one of those without even knowing much about the algorithm:"
      ]
    },
    {
      "cell_type": "code",
      "metadata": {
        "id": "PiLd3z2qHCYA",
        "outputId": "fb081d5c-274e-4afd-d207-bd307b5138a0"
      },
      "source": [
        "from sklearn.naive_bayes import GaussianNB\n",
        "clf = GaussianNB()\n",
        "clf.fit(athletes[['Height']], athletes['Sport'])"
      ],
      "execution_count": null,
      "outputs": [
        {
          "output_type": "execute_result",
          "data": {
            "text/plain": [
              "GaussianNB()"
            ]
          },
          "metadata": {
            "tags": []
          },
          "execution_count": 14
        }
      ]
    },
    {
      "cell_type": "code",
      "metadata": {
        "id": "b2fu1V6AHCYB",
        "outputId": "d78dfd99-8361-4ac7-bfa1-1715edefc1fd"
      },
      "source": [
        "clf.predict([[70]])"
      ],
      "execution_count": null,
      "outputs": [
        {
          "output_type": "execute_result",
          "data": {
            "text/plain": [
              "array(['Basketball'], dtype='<U10')"
            ]
          },
          "metadata": {
            "tags": []
          },
          "execution_count": 15
        }
      ]
    },
    {
      "cell_type": "markdown",
      "metadata": {
        "id": "ZTHM4FY0HCYB"
      },
      "source": [
        "So regardless of algorithm, the steps were\n",
        "\n",
        "1. create the classifier. For ex., `knn = KNeighborsClassifier()`\n",
        "2. fit the classifier. For ex., `knn.fit(athletes_features, athletes_labels)`\n",
        "3. used the classifier to make predictions on new data. For ex., `knn.predict([70])`\n",
        "\n",
        "\n",
        "Ok. back to kNN.\n",
        "\n"
      ]
    },
    {
      "cell_type": "markdown",
      "metadata": {
        "id": "d1CJPmWuHCYB"
      },
      "source": [
        "# return to kNN\n",
        "We still have my `knn` classifier:"
      ]
    },
    {
      "cell_type": "code",
      "metadata": {
        "id": "8i-e-2u4HCYC",
        "outputId": "1403efb2-f5dc-40b7-b567-0438aa60381f"
      },
      "source": [
        "knn"
      ],
      "execution_count": null,
      "outputs": [
        {
          "output_type": "execute_result",
          "data": {
            "text/plain": [
              "KNeighborsClassifier(n_neighbors=3)"
            ]
          },
          "metadata": {
            "tags": []
          },
          "execution_count": 16
        }
      ]
    },
    {
      "cell_type": "markdown",
      "metadata": {
        "id": "hegW3ijsHCYC"
      },
      "source": [
        "### training and test sets\n",
        "\n",
        "When we `fit` the classifier:\n",
        "\n",
        "    knn.fit(athletes_features, athletes_labels)\n",
        "\n",
        "We trained the classifer on a set of data that we use for training, and not surprisingly, this is called the **training set**.  So perhaps a better variable name would be:\n",
        "\n",
        "    athletes_training_features   athletes_training_labels\n",
        "\n",
        "To see how **good** a classifier we made (more on the meaning of good later) we use a set of data called the **test** set. \n",
        "\n",
        "Let's create a test set now:\n",
        "    \n",
        "    \n",
        "\n"
      ]
    },
    {
      "cell_type": "code",
      "metadata": {
        "id": "sSS5zvowHCYC",
        "outputId": "7e945940-b7a2-44ba-fe20-13e06d91fbc8"
      },
      "source": [
        "athletes_test_features = DataFrame({'Height': [74, 65, 65]}, index=['Nneka Ogwumike', 'Svetlana Khorkina', 'Leilani Mitchell'])\n",
        "athletes_test_features"
      ],
      "execution_count": null,
      "outputs": [
        {
          "output_type": "execute_result",
          "data": {
            "text/html": [
              "<div>\n",
              "<style scoped>\n",
              "    .dataframe tbody tr th:only-of-type {\n",
              "        vertical-align: middle;\n",
              "    }\n",
              "\n",
              "    .dataframe tbody tr th {\n",
              "        vertical-align: top;\n",
              "    }\n",
              "\n",
              "    .dataframe thead th {\n",
              "        text-align: right;\n",
              "    }\n",
              "</style>\n",
              "<table border=\"1\" class=\"dataframe\">\n",
              "  <thead>\n",
              "    <tr style=\"text-align: right;\">\n",
              "      <th></th>\n",
              "      <th>Height</th>\n",
              "    </tr>\n",
              "  </thead>\n",
              "  <tbody>\n",
              "    <tr>\n",
              "      <th>Nneka Ogwumike</th>\n",
              "      <td>74</td>\n",
              "    </tr>\n",
              "    <tr>\n",
              "      <th>Svetlana Khorkina</th>\n",
              "      <td>65</td>\n",
              "    </tr>\n",
              "    <tr>\n",
              "      <th>Leilani Mitchell</th>\n",
              "      <td>65</td>\n",
              "    </tr>\n",
              "  </tbody>\n",
              "</table>\n",
              "</div>"
            ],
            "text/plain": [
              "                   Height\n",
              "Nneka Ogwumike         74\n",
              "Svetlana Khorkina      65\n",
              "Leilani Mitchell       65"
            ]
          },
          "metadata": {
            "tags": []
          },
          "execution_count": 17
        }
      ]
    },
    {
      "cell_type": "markdown",
      "metadata": {
        "id": "a-k1w2gNHCYD"
      },
      "source": [
        "and now we can make predictions on everyone in our test set:"
      ]
    },
    {
      "cell_type": "code",
      "metadata": {
        "id": "suVzak6jHCYD",
        "outputId": "6083e792-0f2e-4f2f-ea08-4f4c09562fdb"
      },
      "source": [
        "knn.predict(athletes_test_features)"
      ],
      "execution_count": null,
      "outputs": [
        {
          "output_type": "execute_result",
          "data": {
            "text/plain": [
              "array(['Basketball', 'Gymnastics', 'Gymnastics'], dtype=object)"
            ]
          },
          "metadata": {
            "tags": []
          },
          "execution_count": 18
        }
      ]
    },
    {
      "cell_type": "markdown",
      "metadata": {
        "id": "VabXrmHZHCYD"
      },
      "source": [
        "sweet!\n",
        "\n",
        "## the non-coding part of the notebook\n",
        "First, here is a confession. I know zip about sports. I've never had an interest and don't watch any sporting event. So if I make some horrendous mistake in these descriptions you may want to cut me some slack. I am using sports as an example because \n",
        "\n",
        "1. height and weight are easy things to talk about (and it is harder to come up with easy features for musicians, and \n",
        "2. it is easy to get the height and weight of sports people (it's much, much, tougher to get the height and weight of dancers for example). \n",
        "\n",
        "Let's go back to thinking about height and weight as features. Allyson Michelle Felix is among the fastest women on the planet (she won 6 Olympic Gold Medals). Her height is 5'5 and she weighs 121. Courtney Williams is a guard for the Connecticut Suns WNBA team. She is 5'8\" and weighs 136.  Here is the chart so you can see those numbers:\n",
        "\n",
        "\n",
        " person | height | weight\n",
        " :---: |  :---: | :---: \n",
        "Allyson Michelle Felix | 65 | 121\n",
        "Courtney Williams | 68 | 136\n",
        "\n",
        "\n",
        "Now I want to classify an athlete who is 5'4 and weighs 130. What is your gut feeling? Do you think she is a track person or a WNBA player?\n",
        "\n",
        "My thinking is that she is track since she seems too short for a basketball player (and plus I know that those are the stats for Carmelita 'The Jet' Jeter, the fastest women on the planet. (Although, the shortest person in the WNBA, Shannon Denise Bobbitt, is only 5'2\").  But if we classify someone who is 5'4\" by using the Manhattan Distance:\n",
        "\n",
        "    distance(Carmelita, Allyson) = abs(64 - 65) + abs(130 - 120) = 1 + 10 = 11\n",
        "    distance(Carmelita, Courtney) = abs(64 - 68) + abs(130 - 136) = 4 + 6 = 10\n",
        "    \n",
        "We'd pick that she was a basketball player (and we would still pick basketball even if we used Euclidean Distance.\n",
        "    \n",
        "\n",
        "So this is sort of a bummer.  It's the same problem that I mentioned in the video. If I had a match making site and had this misguided idea that the best relationships are those people who are about the same age and have the same salaries. And I have 2 guys:\n",
        "\n",
        " Guys | age | salary\n",
        " ---: | :---: | :---: \n",
        " Mr. Cool | 26 | 80,000\n",
        " Old Dude | 67 | 115,000\n",
        " \n",
        " And I am trying to match up Ann who is 28 and earns 100k. \n",
        " \n",
        " The Manhattan Distance between Ann and Mr. Cool is 2 + 20k = 20,002.\n",
        " \n",
        " The Manhattan Distance between Ann and Old Dude is 31 + 15k  = 15,031\n",
        " \n",
        " So, sadly, our algorithm would recommend the old dude to Ann. This is again a bummer. The problem in both examples is that the range of values in one column is far larger than the range in another column. In our case, the weight column values are much larger than the height values.\n",
        " \n",
        "### rescaling\n",
        "\n",
        "A solution to this problem is to rescale the values so the values in all columns range from 0 to 1. There are other (and possibly better) ways to rescale but let's start with this simple one for now.\n",
        "\n",
        "##### the formula for minmax rescaling:\n",
        "\n",
        "### $$x'= \\frac{x-x_{min}}{x_{max}-x_{min}}$$\n",
        "\n",
        "Let's look at our simple example of Ann, Mr. Cool and Old Dude:\n",
        "\n",
        "Person | Age | Salary\n",
        " ---: | :---: | :---: \n",
        " Mr. Cool | 26 | 80,000\n",
        " Old Dude | 67 | 115,000\n",
        " Ann   | 28 | 100,000\n",
        "\n",
        "so the minimum value of the age column is 26 and the max is 67 and let's say I want to normalize Mr. Cool's age:\n",
        "\n",
        "\n",
        "### $$x'_{Mr.Cool}= \\frac{x_{Mr.Cool}-x_{min}}{x_{max}-x_{min}} = \\frac{26-26}{67-26} = \\frac{0}{41} = 0$$\n",
        "\n",
        "Ann's normalized age:\n",
        "\n",
        "### $$x'_{Ann}= \\frac{x_{Ann}-x_{min}}{x_{max}-x_{min}} = \\frac{28-26}{67-26} = \\frac{2}{41} = 0.048$$\n",
        "\n",
        "Old Dude's normalized age:\n",
        "\n",
        "### $$x'_{OldDude}= \\frac{x_{OldDude}-x_{min}}{x_{max}-x_{min}} = \\frac{67-26}{67-26} = \\frac{41}{41} = 1$$\n",
        "\n",
        "\n",
        "<h3 style=\"color:red\">Normalize Salary</h3>\n",
        "<span style=\"color:red\">Can you normalize the values in the salary column?</span>\n",
        "\n",
        "Double click this cell, enter the data, and shift-enter to render this markdown cell\n",
        "\n",
        "Person | Age | Salary\n",
        " ---: | :---: | :---: \n",
        " Mr. Cool | 0 | 80,000\n",
        "Old Dude | 0.048 | 115,000\n",
        " Ann   | 1 | 100,000"
      ]
    },
    {
      "cell_type": "markdown",
      "metadata": {
        "id": "0kpvFV-wHCYE"
      },
      "source": [
        "## It's pretty easy to do this in straight Python:\n",
        "\n"
      ]
    },
    {
      "cell_type": "code",
      "metadata": {
        "id": "fEMTrOgqHCYE",
        "outputId": "ed9dc145-a65f-44e1-a541-ca6205e504e7"
      },
      "source": [
        "age = [26, 67, 28]\n",
        "\n",
        "def scale(arr):\n",
        "    return [(x - min(arr))/ (max(arr) - min(arr)) for x in arr]\n",
        "\n",
        "scale(age)\n"
      ],
      "execution_count": null,
      "outputs": [
        {
          "output_type": "execute_result",
          "data": {
            "text/plain": [
              "[0.0, 1.0, 0.04878048780487805]"
            ]
          },
          "metadata": {
            "tags": []
          },
          "execution_count": 19
        }
      ]
    },
    {
      "cell_type": "markdown",
      "metadata": {
        "id": "zaYIQBuaHCYE"
      },
      "source": [
        "## Using the min-max scale method in sklearn\n",
        "It's even easier to do it for pandas DataFrames. \n",
        "First, let's make a dataframe from the data we have been using."
      ]
    },
    {
      "cell_type": "code",
      "metadata": {
        "id": "53EgCxuMHCYF",
        "outputId": "71567eb6-8aac-459b-d48f-2c4d783237c8"
      },
      "source": [
        "simple = DataFrame({'age': [26, 67, 28], 'salary': [80000, 115000, 100000]}, index=['Mr. Cool', 'Old Dude', 'Ann'])\n",
        "simple"
      ],
      "execution_count": null,
      "outputs": [
        {
          "output_type": "execute_result",
          "data": {
            "text/html": [
              "<div>\n",
              "<style scoped>\n",
              "    .dataframe tbody tr th:only-of-type {\n",
              "        vertical-align: middle;\n",
              "    }\n",
              "\n",
              "    .dataframe tbody tr th {\n",
              "        vertical-align: top;\n",
              "    }\n",
              "\n",
              "    .dataframe thead th {\n",
              "        text-align: right;\n",
              "    }\n",
              "</style>\n",
              "<table border=\"1\" class=\"dataframe\">\n",
              "  <thead>\n",
              "    <tr style=\"text-align: right;\">\n",
              "      <th></th>\n",
              "      <th>age</th>\n",
              "      <th>salary</th>\n",
              "    </tr>\n",
              "  </thead>\n",
              "  <tbody>\n",
              "    <tr>\n",
              "      <th>Mr. Cool</th>\n",
              "      <td>26</td>\n",
              "      <td>80000</td>\n",
              "    </tr>\n",
              "    <tr>\n",
              "      <th>Old Dude</th>\n",
              "      <td>67</td>\n",
              "      <td>115000</td>\n",
              "    </tr>\n",
              "    <tr>\n",
              "      <th>Ann</th>\n",
              "      <td>28</td>\n",
              "      <td>100000</td>\n",
              "    </tr>\n",
              "  </tbody>\n",
              "</table>\n",
              "</div>"
            ],
            "text/plain": [
              "          age  salary\n",
              "Mr. Cool   26   80000\n",
              "Old Dude   67  115000\n",
              "Ann        28  100000"
            ]
          },
          "metadata": {
            "tags": []
          },
          "execution_count": 20
        }
      ]
    },
    {
      "cell_type": "markdown",
      "metadata": {
        "id": "c0K_ifhWHCYF"
      },
      "source": [
        "ok. and now let's scale those values:"
      ]
    },
    {
      "cell_type": "code",
      "metadata": {
        "id": "iLR5NbRVHCYF",
        "outputId": "62df18e3-f6c2-467a-bd76-be3812d9cf68"
      },
      "source": [
        "from sklearn.preprocessing import MinMaxScaler\n",
        "scaler = MinMaxScaler()\n",
        "simple[['age', 'salary']] =  scaler.fit_transform(simple[['age', 'salary']] )\n",
        "simple"
      ],
      "execution_count": null,
      "outputs": [
        {
          "output_type": "execute_result",
          "data": {
            "text/html": [
              "<div>\n",
              "<style scoped>\n",
              "    .dataframe tbody tr th:only-of-type {\n",
              "        vertical-align: middle;\n",
              "    }\n",
              "\n",
              "    .dataframe tbody tr th {\n",
              "        vertical-align: top;\n",
              "    }\n",
              "\n",
              "    .dataframe thead th {\n",
              "        text-align: right;\n",
              "    }\n",
              "</style>\n",
              "<table border=\"1\" class=\"dataframe\">\n",
              "  <thead>\n",
              "    <tr style=\"text-align: right;\">\n",
              "      <th></th>\n",
              "      <th>age</th>\n",
              "      <th>salary</th>\n",
              "    </tr>\n",
              "  </thead>\n",
              "  <tbody>\n",
              "    <tr>\n",
              "      <th>Mr. Cool</th>\n",
              "      <td>0.00000</td>\n",
              "      <td>0.000000</td>\n",
              "    </tr>\n",
              "    <tr>\n",
              "      <th>Old Dude</th>\n",
              "      <td>1.00000</td>\n",
              "      <td>1.000000</td>\n",
              "    </tr>\n",
              "    <tr>\n",
              "      <th>Ann</th>\n",
              "      <td>0.04878</td>\n",
              "      <td>0.571429</td>\n",
              "    </tr>\n",
              "  </tbody>\n",
              "</table>\n",
              "</div>"
            ],
            "text/plain": [
              "              age    salary\n",
              "Mr. Cool  0.00000  0.000000\n",
              "Old Dude  1.00000  1.000000\n",
              "Ann       0.04878  0.571429"
            ]
          },
          "metadata": {
            "tags": []
          },
          "execution_count": 21
        }
      ]
    },
    {
      "cell_type": "markdown",
      "metadata": {
        "id": "4CFGkUQaHCYF"
      },
      "source": [
        "Cool.  Now when I try to find the Manhattan distance from Ann to both Mr. Cool and Old Dude I get:\n",
        "\n",
        "###   $$distance_{Ann,Mr.Cool} = \\left|.048 - 0.0\\right| + \\left|0.57-0\\right| = .048 + 0.57 = 0.618$$\n",
        "\n",
        "###   $$distance_{Ann,OldDude} = \\left|.048 - 1.0\\right| + \\left|0.57-1\\right| = .952 + 0.57 = 1.32$$\n",
        "\n",
        "#### Now, fortunately, Ann is closer to Mr. Cool!\n",
        "\n",
        "\n",
        "\n",
        "\n",
        "\n",
        "<h1 style=\"color:red\">A bigger challenge: The Iris Data Set</h1>\n",
        "\n",
        "\n",
        "<img src=\"https://upload.wikimedia.org/wikipedia/commons/1/1e/IMG_7911-Iris_virginica.jpg\" width=\"250\" />\n",
        "\n",
        "We are going to use the Iris Dataset, one of the standard data mining data sets which has been around since 1988.  The data set contains 3 classes of 50 instances each\n",
        "\n",
        "1. Iris Setosa \n",
        "2. Iris Versicolour \n",
        "3. Iris Virginica (the picture above)\n",
        "\n",
        "There are only 4 attributes or features:\n",
        "\n",
        "1. sepal length in cm \n",
        "2. sepal width in cm \n",
        "3. petal length in cm \n",
        "4. petal width in cm \n",
        "\n",
        "Here is an example of the data:\n",
        "\n",
        "Sepal Length|Sepal Width|Petal Length|Petal Width|Class\n",
        ":--: | :--: |:--: |:--: |:--: \n",
        "5.3|3.7|1.5|0.2|Iris-setosa\n",
        "5.0|3.3|1.4|0.2|Iris-setosa\n",
        "5.0|2.0|3.5|1.0|Iris-versicolor\n",
        "5.9|3.0|4.2|1.5|Iris-versicolor\n",
        "6.3|3.4|5.6|2.4|Iris-virginica\n",
        "6.4|3.1|5.5|1.8|Iris-virginica\n",
        "\n",
        "The job of the classifier is to determine the class of an instance (the type of Iris) based on the values of the attributes.\n",
        "\n",
        "I will pause a moment while you load the dataset from\n",
        "\n",
        "    https://raw.githubusercontent.com/zacharski/ml-class/master/data/irisTrain.csv\n",
        "    \n",
        "<h3 style=\"color:red\">Load the data</h3>"
      ]
    },
    {
      "cell_type": "code",
      "metadata": {
        "scrolled": true,
        "id": "Q4JaBXo2HCYG",
        "outputId": "0d6a8b88-3b6b-4d10-a94d-ab103a63d919"
      },
      "source": [
        "iris = pd.read_csv('https://raw.githubusercontent.com/zacharski/ml-class/master/data/irisTrain.csv')\n",
        "iris"
      ],
      "execution_count": null,
      "outputs": [
        {
          "output_type": "execute_result",
          "data": {
            "text/html": [
              "<div>\n",
              "<style scoped>\n",
              "    .dataframe tbody tr th:only-of-type {\n",
              "        vertical-align: middle;\n",
              "    }\n",
              "\n",
              "    .dataframe tbody tr th {\n",
              "        vertical-align: top;\n",
              "    }\n",
              "\n",
              "    .dataframe thead th {\n",
              "        text-align: right;\n",
              "    }\n",
              "</style>\n",
              "<table border=\"1\" class=\"dataframe\">\n",
              "  <thead>\n",
              "    <tr style=\"text-align: right;\">\n",
              "      <th></th>\n",
              "      <th>Sepal Length</th>\n",
              "      <th>Sepal Width</th>\n",
              "      <th>Petal Length</th>\n",
              "      <th>Petal Width</th>\n",
              "      <th>Class</th>\n",
              "    </tr>\n",
              "  </thead>\n",
              "  <tbody>\n",
              "    <tr>\n",
              "      <th>0</th>\n",
              "      <td>5.4</td>\n",
              "      <td>3.7</td>\n",
              "      <td>1.5</td>\n",
              "      <td>0.2</td>\n",
              "      <td>Iris-setosa</td>\n",
              "    </tr>\n",
              "    <tr>\n",
              "      <th>1</th>\n",
              "      <td>4.8</td>\n",
              "      <td>3.4</td>\n",
              "      <td>1.6</td>\n",
              "      <td>0.2</td>\n",
              "      <td>Iris-setosa</td>\n",
              "    </tr>\n",
              "    <tr>\n",
              "      <th>2</th>\n",
              "      <td>4.8</td>\n",
              "      <td>3.0</td>\n",
              "      <td>1.4</td>\n",
              "      <td>0.1</td>\n",
              "      <td>Iris-setosa</td>\n",
              "    </tr>\n",
              "    <tr>\n",
              "      <th>3</th>\n",
              "      <td>4.3</td>\n",
              "      <td>3.0</td>\n",
              "      <td>1.1</td>\n",
              "      <td>0.1</td>\n",
              "      <td>Iris-setosa</td>\n",
              "    </tr>\n",
              "    <tr>\n",
              "      <th>4</th>\n",
              "      <td>5.8</td>\n",
              "      <td>4.0</td>\n",
              "      <td>1.2</td>\n",
              "      <td>0.2</td>\n",
              "      <td>Iris-setosa</td>\n",
              "    </tr>\n",
              "    <tr>\n",
              "      <th>...</th>\n",
              "      <td>...</td>\n",
              "      <td>...</td>\n",
              "      <td>...</td>\n",
              "      <td>...</td>\n",
              "      <td>...</td>\n",
              "    </tr>\n",
              "    <tr>\n",
              "      <th>115</th>\n",
              "      <td>6.7</td>\n",
              "      <td>3.0</td>\n",
              "      <td>5.2</td>\n",
              "      <td>2.3</td>\n",
              "      <td>Iris-virginica</td>\n",
              "    </tr>\n",
              "    <tr>\n",
              "      <th>116</th>\n",
              "      <td>6.3</td>\n",
              "      <td>2.5</td>\n",
              "      <td>5.0</td>\n",
              "      <td>1.9</td>\n",
              "      <td>Iris-virginica</td>\n",
              "    </tr>\n",
              "    <tr>\n",
              "      <th>117</th>\n",
              "      <td>6.5</td>\n",
              "      <td>3.0</td>\n",
              "      <td>5.2</td>\n",
              "      <td>2.0</td>\n",
              "      <td>Iris-virginica</td>\n",
              "    </tr>\n",
              "    <tr>\n",
              "      <th>118</th>\n",
              "      <td>6.2</td>\n",
              "      <td>3.4</td>\n",
              "      <td>5.4</td>\n",
              "      <td>2.3</td>\n",
              "      <td>Iris-virginica</td>\n",
              "    </tr>\n",
              "    <tr>\n",
              "      <th>119</th>\n",
              "      <td>5.9</td>\n",
              "      <td>3.0</td>\n",
              "      <td>5.1</td>\n",
              "      <td>1.8</td>\n",
              "      <td>Iris-virginica</td>\n",
              "    </tr>\n",
              "  </tbody>\n",
              "</table>\n",
              "<p>120 rows × 5 columns</p>\n",
              "</div>"
            ],
            "text/plain": [
              "     Sepal Length  Sepal Width  Petal Length  Petal Width           Class\n",
              "0             5.4          3.7           1.5          0.2     Iris-setosa\n",
              "1             4.8          3.4           1.6          0.2     Iris-setosa\n",
              "2             4.8          3.0           1.4          0.1     Iris-setosa\n",
              "3             4.3          3.0           1.1          0.1     Iris-setosa\n",
              "4             5.8          4.0           1.2          0.2     Iris-setosa\n",
              "..            ...          ...           ...          ...             ...\n",
              "115           6.7          3.0           5.2          2.3  Iris-virginica\n",
              "116           6.3          2.5           5.0          1.9  Iris-virginica\n",
              "117           6.5          3.0           5.2          2.0  Iris-virginica\n",
              "118           6.2          3.4           5.4          2.3  Iris-virginica\n",
              "119           5.9          3.0           5.1          1.8  Iris-virginica\n",
              "\n",
              "[120 rows x 5 columns]"
            ]
          },
          "metadata": {
            "tags": []
          },
          "execution_count": 22
        }
      ]
    },
    {
      "cell_type": "markdown",
      "metadata": {
        "collapsed": true,
        "id": "RBN1HghIHCYG"
      },
      "source": [
        "Let's take a look at the data and plot out the petal length and width of the irises:"
      ]
    },
    {
      "cell_type": "code",
      "metadata": {
        "id": "Ig_9NOmwHCYG"
      },
      "source": [
        "import bokeh.plotting as bpl\n",
        "import bokeh.models as bmo\n",
        "from bokeh.palettes import d3\n",
        "bpl.output_notebook()\n",
        "source = bpl.ColumnDataSource(iris)\n",
        "\n",
        "# use whatever palette you want...\n",
        "palette = d3['Category10'][len(iris['Class'].unique())]\n",
        "color_map = bmo.CategoricalColorMapper(factors=iris['Class'].unique(),\n",
        "                                   palette=palette)\n",
        "\n",
        "# create figure and plot\n",
        "p = bpl.figure(title=\"The Petal Length and Width of Different Iris Classes\", x_axis_label=\"Petal Length\", y_axis_label=\"Petal Width\")\n",
        "p.scatter(x='Petal Length', y='Petal Width',\n",
        "          color={'field': 'Class', 'transform': color_map},\n",
        "          legend='Class', source=source)\n",
        "bpl.show(p)\n"
      ],
      "execution_count": null,
      "outputs": []
    },
    {
      "cell_type": "markdown",
      "metadata": {
        "collapsed": true,
        "id": "m2lGrFlBHCYG"
      },
      "source": [
        "The data seems easy to classify since the classes are nicely separated!"
      ]
    },
    {
      "cell_type": "markdown",
      "metadata": {
        "collapsed": true,
        "id": "JLSI_TXUHCYH"
      },
      "source": [
        "<h2 style=\"color:red\">Build a kNN classifier and use it to classify instances</h2>\n",
        "<span style=\"color:red\">The instances I would like you to classify are at:</span>.  \n",
        "\n",
        "     https://raw.githubusercontent.com/zacharski/ml-class/master/data/irisTest.csv\n",
        "    \n"
      ]
    },
    {
      "cell_type": "code",
      "metadata": {
        "id": "FuYi2MqyHCYH"
      },
      "source": [
        ""
      ],
      "execution_count": null,
      "outputs": []
    },
    {
      "cell_type": "markdown",
      "metadata": {
        "id": "VDqLxyndHCYH"
      },
      "source": [
        "At this point you should have 4 DataFrames: the training features, the training classes or labels, the test features and the test labels.\n",
        "\n",
        "#### First, create a classifier using Euclidean distance and k=3"
      ]
    },
    {
      "cell_type": "code",
      "metadata": {
        "scrolled": true,
        "id": "xOqhwJhkHCYI"
      },
      "source": [
        "#\n",
        "knn = KNeighborsClassifier(n_neighbors=3)\n",
        "knn.get_params()"
      ],
      "execution_count": null,
      "outputs": []
    },
    {
      "cell_type": "markdown",
      "metadata": {
        "id": "6pmTrmchHCYI"
      },
      "source": [
        "#### Next, `fit` the training set data"
      ]
    },
    {
      "cell_type": "code",
      "metadata": {
        "id": "hvHY-BkxHCYI"
      },
      "source": [
        "#\n",
        "iris_features = iris[['Petal Length', 'Petal Width', 'Sepal Length', 'Sepal Width']]\n",
        "iris_features\n",
        "iris_labels = iris['Class']\n",
        "knn.fit(iris_features, iris_labels)\n",
        "knn"
      ],
      "execution_count": null,
      "outputs": []
    },
    {
      "cell_type": "markdown",
      "metadata": {
        "id": "KTw-KoOeHCYI"
      },
      "source": [
        "<h2 style=\"color:red\">Accuracy</h2>\n",
        "\n",
        "I am defining accuracy as:\n",
        "\n",
        "### $$accuracy= \\frac{totalNumberCorrectlyClassified}{totalNumberOfCasesInOurTestSet} $$\n",
        "\n",
        "So if we have 40 items in our test set and we classified 30 correctly we have an accuracy of 0.75 or 75%\n",
        "\n",
        "<span style=\"color:red\">I would like you to calculate the accuracy</span>.  \n",
        "\n",
        "`sklearn` has a method that does this. To see how to use it google `sklearn accuracy`\n",
        "\n"
      ]
    },
    {
      "cell_type": "code",
      "metadata": {
        "id": "MyO-Z-y0HCYI"
      },
      "source": [
        "# your code here\n",
        "iT = pd.read_csv('https://raw.githubusercontent.com/zacharski/ml-class/master/data/irisTest.csv')\n",
        "irisT_features = iT[['Petal Length', 'Petal Width', 'Sepal Length', 'Sepal Width']]\n",
        "irisT_features\n",
        "irisT_labels = iT['Class']\n",
        "pre = knn.predict(irisT_features)\n",
        "pre\n",
        "from sklearn.metrics import accuracy_score\n",
        "accuracy_score(irisT_labels, pre)"
      ],
      "execution_count": null,
      "outputs": []
    },
    {
      "cell_type": "markdown",
      "metadata": {
        "collapsed": true,
        "id": "BY3DwhZwHCYI"
      },
      "source": [
        "<h2 style=\"color:red\">A few questions</h2>\n",
        "\n",
        "        \n",
        "1. Instead of using all 4 features, do you get as good an accuracy with just using sepal length and width?\n",
        "2. What about using just petal length and width?\n",
        "3. Do you get as good a performance when using Manhattan distance?\n",
        "\n",
        "Please show your work"
      ]
    },
    {
      "cell_type": "code",
      "metadata": {
        "id": "tMOW49jYHCYJ"
      },
      "source": [
        "iris_features = iris[['Petal Length', 'Petal Width']]\n",
        "irisT_features = iT[['Petal Length', 'Petal Width']]\n",
        "knn2 = KNeighborsClassifier(n_neighbors=2, p=3)\n",
        "knn2.fit(iris_features, iris_labels)\n",
        "pre = knn2.predict(irisT_features)\n",
        "accuracy_score(irisT_labels, pre)"
      ],
      "execution_count": null,
      "outputs": []
    },
    {
      "cell_type": "code",
      "metadata": {
        "id": "k5M9jaCCHCYJ"
      },
      "source": [
        ""
      ],
      "execution_count": null,
      "outputs": []
    }
  ]
}